{
 "cells": [
  {
   "cell_type": "code",
   "execution_count": 1,
   "id": "0f319bf2",
   "metadata": {},
   "outputs": [],
   "source": [
    "import pandas as pd\n",
    "import ipywidgets as widgets\n",
    "from IPython.display import display"
   ]
  },
  {
   "cell_type": "code",
   "execution_count": 2,
   "id": "ca06f3ae",
   "metadata": {},
   "outputs": [],
   "source": [
    "#  data for content-based recommendation\n",
    "df_movie = pd.read_csv('movies.csv')\n",
    "df_ratings = pd.read_csv('ratings.csv')\n",
    "\n",
    "data= pd.merge(df_movie,df_ratings,on=\"movieId\")\n",
    "\n",
    "unique_genres = df_movie['genres'].str.split('|', expand=True).stack().unique()\n"
   ]
  },
  {
   "cell_type": "code",
   "execution_count": 3,
   "id": "b922f179",
   "metadata": {},
   "outputs": [
    {
     "data": {
      "application/vnd.jupyter.widget-view+json": {
       "model_id": "6f3c537b7d674226b30fae5481bc2adf",
       "version_major": 2,
       "version_minor": 0
      },
      "text/plain": [
       "VBox(children=(Dropdown(description='Select Genre:', options=('Adventure|Animation|Children|Comedy|Fantasy', '…"
      ]
     },
     "metadata": {},
     "output_type": "display_data"
    }
   ],
   "source": [
    "#  recommendation function\n",
    "def content_based_recommendation(genre, min_rating):\n",
    "    #  recommendation process using a simple filter\n",
    "    recommendations = data[(data['genres'] == genre) & (data['rating'] >= min_rating)]\n",
    "    return recommendations\n",
    "\n",
    "# Widget for genre selection\n",
    "genre_widget = widgets.Dropdown(\n",
    "    options=data['genres'].unique(),\n",
    "    description='Select Genre:'\n",
    ")\n",
    "\n",
    "# Widget for minimum rating selection\n",
    "rating_widget = widgets.FloatSlider(\n",
    "    min=0,\n",
    "    max=5,\n",
    "    step=0.1,\n",
    "    value=3.5,\n",
    "    description='Minimum Rating:'\n",
    ")\n",
    "\n",
    "# Output widget to display recommendations\n",
    "output_widget = widgets.Output()\n",
    "\n",
    "def on_recommendation_button_clicked(b):\n",
    "    with output_widget:\n",
    "        output_widget.clear_output()\n",
    "        genre = genre_widget.value\n",
    "        min_rating = rating_widget.value\n",
    "        recommendations = content_based_recommendation(genre, min_rating)\n",
    "        display(recommendations)\n",
    "\n",
    "# Button widget for triggering the recommendation process\n",
    "recommendation_button = widgets.Button(\n",
    "    description='Get Recommendations',\n",
    "    button_style='primary'\n",
    ")\n",
    "recommendation_button.on_click(on_recommendation_button_clicked)\n",
    "\n",
    "# Combine widgets in a VBox layout\n",
    "vbox_layout = widgets.VBox([genre_widget, rating_widget, recommendation_button, output_widget])\n",
    "display(vbox_layout)"
   ]
  },
  {
   "cell_type": "code",
   "execution_count": null,
   "id": "276324c4",
   "metadata": {},
   "outputs": [],
   "source": []
  }
 ],
 "metadata": {
  "kernelspec": {
   "display_name": "Python 3 (ipykernel)",
   "language": "python",
   "name": "python3"
  },
  "language_info": {
   "codemirror_mode": {
    "name": "ipython",
    "version": 3
   },
   "file_extension": ".py",
   "mimetype": "text/x-python",
   "name": "python",
   "nbconvert_exporter": "python",
   "pygments_lexer": "ipython3",
   "version": "3.10.10"
  }
 },
 "nbformat": 4,
 "nbformat_minor": 5
}
