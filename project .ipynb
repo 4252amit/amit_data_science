{
 "cells": [
  {
   "cell_type": "code",
   "execution_count": 1,
   "id": "addf5c78",
   "metadata": {},
   "outputs": [],
   "source": [
    "import numpy as np\n",
    "import pandas as pd\n",
    "import matplotlib.pyplot as plt\n",
    "import seaborn as sns\n",
    "from sklearn.feature_extraction.text import TfidfVectorizer\n",
    "from sklearn.metrics.pairwise import cosine_similarity\n"
   ]
  },
  {
   "cell_type": "code",
   "execution_count": 2,
   "id": "e23ce5f6",
   "metadata": {},
   "outputs": [],
   "source": [
    "# load dataset 'movies' and 'ratings'\n",
    "df_movie = pd.read_csv('movies.csv')\n",
    "df_ratings = pd.read_csv('ratings.csv')"
   ]
  },
  {
   "cell_type": "code",
   "execution_count": 3,
   "id": "d3c67ae5",
   "metadata": {},
   "outputs": [],
   "source": [
    "# merge dataset by 'movieId' column\n",
    "df = pd.merge(df_movie, df_ratings, on='movieId')\n",
    "    \n",
    "    "
   ]
  },
  {
   "cell_type": "code",
   "execution_count": 4,
   "id": "13f8721a",
   "metadata": {},
   "outputs": [
    {
     "data": {
      "text/plain": [
       "movieId      0\n",
       "title        0\n",
       "genres       0\n",
       "userId       0\n",
       "rating       0\n",
       "timestamp    0\n",
       "dtype: int64"
      ]
     },
     "execution_count": 4,
     "metadata": {},
     "output_type": "execute_result"
    }
   ],
   "source": [
    "# check for null values\n",
    "df.isnull().sum()"
   ]
  },
  {
   "cell_type": "code",
   "execution_count": 5,
   "id": "53ca19a0",
   "metadata": {},
   "outputs": [
    {
     "data": {
      "text/plain": [
       "0"
      ]
     },
     "execution_count": 5,
     "metadata": {},
     "output_type": "execute_result"
    }
   ],
   "source": [
    "# check for duplicates\n",
    "df.duplicated().sum()"
   ]
  },
  {
   "cell_type": "code",
   "execution_count": 7,
   "id": "a4b11a3f",
   "metadata": {},
   "outputs": [
    {
     "name": "stdout",
     "output_type": "stream",
     "text": [
      "Unique Users: 668\n",
      "Unique Movies: 10325\n"
     ]
    }
   ],
   "source": [
    "# Find unique users\n",
    "unique_users = df['userId'].unique()\n",
    "print(\"Unique Users:\", len(unique_users))\n",
    "\n",
    "# Find unique movies\n",
    "unique_movies = df['movieId'].unique()\n",
    "print(\"Unique Movies:\", len(unique_movies))"
   ]
  },
  {
   "cell_type": "code",
   "execution_count": 6,
   "id": "68eaa35c",
   "metadata": {},
   "outputs": [
    {
     "name": "stdout",
     "output_type": "stream",
     "text": [
      "['Toy Story (1995)' 'Jumanji (1995)' 'Grumpier Old Men (1995)' ...\n",
      " 'A Very Murray Christmas (2015)' 'The Big Short (2015)'\n",
      " 'Marco Polo: One Hundred Eyes (2015)']\n"
     ]
    }
   ],
   "source": [
    "# # Unique movies\n",
    "unique_movies = df_movie['title'].str.split('|', expand=True).stack().unique()\n",
    "print(unique_movies)"
   ]
  },
  {
   "cell_type": "code",
   "execution_count": 8,
   "id": "261b3ce1",
   "metadata": {},
   "outputs": [
    {
     "name": "stdout",
     "output_type": "stream",
     "text": [
      "enter genre:Action\n",
      "enter  min_threshold ratings:200\n",
      "no of recommndetion:5\n",
      "                                               title  avg_rating  num_reviews\n",
      "1                                 Matrix, The (1999)    4.264368          261\n",
      "2  Star Wars: Episode V - The Empire Strikes Back...    4.228070          228\n",
      "3  Raiders of the Lost Ark (Indiana Jones and the...    4.212054          224\n",
      "4          Star Wars: Episode IV - A New Hope (1977)    4.188645          273\n",
      "5                                  Fight Club (1999)    4.188406          207\n"
     ]
    }
   ],
   "source": [
    "# 1.popularity based recommendation \n",
    "\n",
    "# inputes by user ' genre','threshold ratings'and 'number of recommendetion'\n",
    "genre=str(input('enter genre:'))\n",
    "min_reviews_threshold =int(input('enter  min_threshold ratings:')) \n",
    "num_recommendations =int(input('no of recommndetion:'))\n",
    "\n",
    "\n",
    "# filter movies by 'genres'\n",
    "genre_movies = df[df['genres'].str.contains(genre, case=False)]\n",
    "\n",
    "# calculate avrage rating and no of reviws to movie\n",
    "movie_stats = genre_movies.groupby('movieId').agg({'rating': ['mean', 'count']})\n",
    "movie_stats.columns = ['avg_rating', 'num_reviews']\n",
    "\n",
    "# filter movies by threshold no of revies\n",
    "filtered_movies = movie_stats[movie_stats['num_reviews'] >= min_reviews_threshold]\n",
    "\n",
    "# sorting of movies by average rating in descending order\n",
    "sorted_movies = filtered_movies.sort_values('avg_rating', ascending=False)\n",
    "\n",
    "# recommendetion\n",
    "recommendations = sorted_movies.head(num_recommendations)\n",
    "recommended_movies = pd.merge(recommendations,df_movie, on='movieId')\n",
    "recommended_movies.reset_index(drop=True, inplace=True)\n",
    "recommended_movies.index += 1\n",
    "recommended_movies = recommended_movies.rename(columns={'index': 'S.No'})\n",
    "recommended_movies = recommended_movies[['title', 'avg_rating', 'num_reviews']]\n",
    "\n",
    "# display recommended movies\n",
    "print(recommended_movies)"
   ]
  },
  {
   "cell_type": "code",
   "execution_count": 9,
   "id": "5ca61b81",
   "metadata": {},
   "outputs": [
    {
     "name": "stdout",
     "output_type": "stream",
     "text": [
      "enter title of movie :Fugitive, The (1993)\n",
      "enter number of recommendetion required :6\n",
      "Top 6 movies similar to Fugitive, The (1993):\n",
      "1 Heat (1995)\n",
      "2 GoldenEye (1995)\n",
      "3 Money Train (1995)\n",
      "4 Get Shorty (1995)\n",
      "5 Copycat (1995)\n",
      "6 Assassins (1995)\n"
     ]
    }
   ],
   "source": [
    "# 2.content based recommendetion\n",
    "\n",
    "# inpute by user\n",
    "movie_title= str(input('enter title of movie :'))\n",
    "num_recommendations = int(input('enter number of recommendetion required :'))\n",
    "\n",
    "# define function for content based recommendetion \n",
    "def content_based_recommender(movie_title, num_recommendations):\n",
    "    # Select the movie for which you want to find similar movies\n",
    "    selected_movie = df_movie[df_movie['title'] == movie_title]\n",
    "    \n",
    "    # Check if the selected_movie DataFrame is empty\n",
    "    if selected_movie.empty:\n",
    "        print(\"Movie not found in the dataset.\")\n",
    "        return []\n",
    "    \n",
    "    # Retrieve the genres of the selected movie\n",
    "    selected_movie_genres = selected_movie['genres'].values[0].split('|')\n",
    "    \n",
    "    # Calculate similarity scores with other movies based on genre overlap\n",
    "    similarity_scores = []\n",
    "    for index, row in df_movie.iterrows():\n",
    "        movie_genres = row['genres'].split('|')\n",
    "        similarity_score = len(set(selected_movie_genres) & set(movie_genres))\n",
    "        similarity_scores.append((row['title'], similarity_score))\n",
    "    \n",
    "    # Sort movies based on similarity scores\n",
    "    similarity_scores.sort(key=lambda x: x[1], reverse=True)\n",
    "    \n",
    "    # Select top N movies as recommendations\n",
    "    top_movies = similarity_scores[:num_recommendations]\n",
    "    \n",
    "    return top_movies\n",
    "\n",
    "\n",
    "\n",
    "\n",
    "recommendations = content_based_recommender(movie_title, num_recommendations)\n",
    "\n",
    "# display movies based on content\n",
    "if len(recommendations) == 0:\n",
    "    print(\"No recommendations found.\")\n",
    "else:\n",
    "    print(\"Top\", num_recommendations, \"movies similar to\", movie_title+\":\")\n",
    "    for rank, (movie, score) in enumerate(recommendations, start=1):\n",
    "        print(rank, movie)"
   ]
  },
  {
   "cell_type": "code",
   "execution_count": 10,
   "id": "e6871887",
   "metadata": {},
   "outputs": [
    {
     "name": "stdout",
     "output_type": "stream",
     "text": [
      "userId : 15\n",
      "no of recommendation (n): 5\n",
      "threshold (k): 150\n",
      "recommended movies\n",
      "1. Matrix, The (1999)\n",
      "2. Shawshank Redemption, The (1994)\n",
      "3. American Beauty (1999)\n",
      "4. Star Wars: Episode IV - A New Hope (1977)\n",
      "5. Raiders of the Lost Ark (Indiana Jones and the Raiders of the Lost Ark) (1981)\n"
     ]
    },
    {
     "name": "stderr",
     "output_type": "stream",
     "text": [
      "C:\\Users\\amitt\\miniconda3\\lib\\site-packages\\sklearn\\utils\\extmath.py:193: RuntimeWarning: invalid value encountered in matmul\n",
      "  ret = a @ b\n"
     ]
    }
   ],
   "source": [
    "# 3.collaborative based recommender system\n",
    "\n",
    "# input by user\n",
    "target_user =int(input('userId : '))\n",
    "num_recommended=int(input('no of recommendation (n): '))\n",
    "similar_user_threshold=int(input('threshold (k): '))\n",
    "\n",
    "# filter rating by target user('userId')\n",
    "target_user_rating =df_ratings[df_ratings['userId']==target_user]\n",
    "target_user_rating.head()\n",
    "\n",
    "# calculate similarity\n",
    "user_ratings =df_ratings.pivot(index='userId',columns='movieId',values='rating').fillna(0)\n",
    "user_similarity = cosine_similarity(user_ratings)\n",
    "\n",
    "# get k similar\n",
    "similar_user_indices =user_similarity[target_user-1].argsort()[::-1][1:similar_user_threshold+1]\n",
    "\n",
    "# movie rated by similar user\n",
    "similar_user_rating = user_ratings.iloc[similar_user_indices]\n",
    "similar_user_movie = similar_user_rating.columns[user_ratings.loc[target_user]==0]\n",
    "\n",
    "# movie recommendetion\n",
    "recommended = pd.DataFrame(similar_user_rating[similar_user_movie].mean().sort_values(ascending=False))\n",
    "recommended.columns=['average_ratings']\n",
    "recommended.index_name ='movieId'\n",
    "recommendetion= pd.merge(recommended,df_movie,on='movieId').head(num_recommended)\n",
    "\n",
    "#display\n",
    "print('recommended movies')\n",
    "for i, row in recommendetion.iterrows():\n",
    "    print(f\"{i+1}. {row['title']}\")\n",
    "\n",
    "\n"
   ]
  },
  {
   "cell_type": "code",
   "execution_count": null,
   "id": "4a08671e",
   "metadata": {},
   "outputs": [],
   "source": [
    "# Exploratory Data Analysis including:\n",
    "#     Understanding of distribution of the features availableo\n",
    "#     Finding unique users and movieso\n",
    "#     Average rating and Total movies at genre level.\n",
    "#     Unique genres considered."
   ]
  },
  {
   "cell_type": "code",
   "execution_count": 11,
   "id": "82eaea57",
   "metadata": {},
   "outputs": [
    {
     "data": {
      "image/png": "[encoded data removed]",
      "text/plain": [
       "<Figure size 800x600 with 1 Axes>"
      ]
     },
     "metadata": {},
     "output_type": "display_data"
    }
   ],
   "source": [
    "# distribution of ratings\n",
    "\n",
    "plt.figure(figsize=(8, 6))\n",
    "sns.histplot(data=df, x='rating')\n",
    "plt.title('Distribution of Ratings')\n",
    "plt.xlabel('Rating')\n",
    "plt.ylabel('Count')\n",
    "plt.show()\n"
   ]
  },
  {
   "cell_type": "code",
   "execution_count": 12,
   "id": "82c6e8d1",
   "metadata": {},
   "outputs": [
    {
     "data": {
      "image/png": "[encoded data removed]",
      "text/plain": [
       "<Figure size 1000x600 with 1 Axes>"
      ]
     },
     "metadata": {},
     "output_type": "display_data"
    }
   ],
   "source": [
    "def calculate_average_rating(genre):\n",
    "# Filter movies based on genre\n",
    "    filtered_movies = df[df['genres'] == genre]\n",
    "    \n",
    "    # Calculate average rating\n",
    "    average_rating = filtered_movies['rating'].mean()\n",
    "    \n",
    "    return average_rating\n",
    "\n",
    "# Get unique genres\n",
    "\n",
    "unique_genres = df_movie['genres'].str.split('|', expand=True).stack().unique()\n",
    "\n",
    "# Calculate average ratings for each genre\n",
    "\n",
    "average_ratings = [calculate_average_rating(genre) for genre in unique_genres]\n",
    "\n",
    "# Plotting average rating with respect to genres\n",
    "\n",
    "plt.figure(figsize=(10, 6))\n",
    "plt.bar(unique_genres, average_ratings)\n",
    "plt.xlabel('Genre')\n",
    "plt.ylabel('Average Rating')\n",
    "plt.title('Average Rating by Genre')\n",
    "plt.xticks(rotation=30)\n",
    "plt.show()\n"
   ]
  },
  {
   "cell_type": "code",
   "execution_count": 13,
   "id": "c680c2d1",
   "metadata": {},
   "outputs": [
    {
     "name": "stdout",
     "output_type": "stream",
     "text": [
      "Unique Users: 668\n",
      "Unique Movies: 10325\n"
     ]
    }
   ],
   "source": [
    "# Find unique users\n",
    "unique_users = df['userId'].unique()\n",
    "print(\"Unique Users:\", len(unique_users))\n",
    "\n",
    "# Find unique movies\n",
    "unique_movies = df['movieId'].unique()\n",
    "print(\"Unique Movies:\", len(unique_movies))"
   ]
  },
  {
   "cell_type": "code",
   "execution_count": 14,
   "id": "c18eec9f",
   "metadata": {},
   "outputs": [
    {
     "name": "stdout",
     "output_type": "stream",
     "text": [
      "enter genre:Drama\n",
      "Genre: Drama\n",
      "Average Rating: 3.655965095076843\n",
      "Total Movies: 7678\n"
     ]
    }
   ],
   "source": [
    "# calculate average rating with respect to 'Genres' and number of movies of genres\n",
    "\n",
    "def calculate_average_rating(genre):\n",
    "    # Filter movies based on genre\n",
    "    filtered_movies = df[df['genres'] == genre]\n",
    "    \n",
    "    # Calculate average rating\n",
    "    average_rating = filtered_movies ['rating'].mean()\n",
    "    \n",
    "    return average_rating\n",
    "\n",
    "def count_movies(genre):\n",
    "    # Filter movies based on genre\n",
    "    filtered_movies = df[df['genres'] == genre]\n",
    "    \n",
    "    # Count total number of movies\n",
    "    total_movies = filtered_movies.shape[0]\n",
    "    \n",
    "    return total_movies\n",
    "\n",
    "# Genre enter by user\n",
    "\n",
    "genre= str(input('enter genre:'))\n",
    "\n",
    "average_rating = calculate_average_rating(genre)\n",
    "total_movies = count_movies(genre)\n",
    "\n",
    "# display\n",
    "\n",
    "print(\"Genre:\", genre)\n",
    "print(\"Average Rating:\", average_rating)\n",
    "print(\"Total Movies:\", total_movies)\n"
   ]
  },
  {
   "cell_type": "code",
   "execution_count": 15,
   "id": "56319b42",
   "metadata": {},
   "outputs": [
    {
     "name": "stdout",
     "output_type": "stream",
     "text": [
      "Unique Genres Considered:\n",
      "['Adventure' 'Animation' 'Children' 'Comedy' 'Fantasy' 'Romance' 'Drama'\n",
      " 'Action' 'Crime' 'Thriller' 'Horror' 'Mystery' 'Sci-Fi' 'IMAX' 'War'\n",
      " 'Musical' 'Documentary' 'Western' 'Film-Noir' '(no genres listed)']\n"
     ]
    }
   ],
   "source": [
    "# Unique genres considered\n",
    "unique_genres = df_movie['genres'].str.split('|', expand=True).stack().unique()\n",
    "print(\"Unique Genres Considered:\")\n",
    "print(unique_genres)"
   ]
  },
  {
   "cell_type": "code",
   "execution_count": null,
   "id": "8464a850",
   "metadata": {},
   "outputs": [],
   "source": []
  }
 ],
 "metadata": {
  "kernelspec": {
   "display_name": "Python 3 (ipykernel)",
   "language": "python",
   "name": "python3"
  },
  "language_info": {
   "codemirror_mode": {
    "name": "ipython",
    "version": 3
   },
   "file_extension": ".py",
   "mimetype": "text/x-python",
   "name": "python",
   "nbconvert_exporter": "python",
   "pygments_lexer": "ipython3",
   "version": "3.10.10"
  }
 },
 "nbformat": 4,
 "nbformat_minor": 5
}
